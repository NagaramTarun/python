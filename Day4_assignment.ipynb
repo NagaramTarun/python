{
 "cells": [
  {
   "cell_type": "code",
   "execution_count": 2,
   "id": "581b9c66",
   "metadata": {},
   "outputs": [
    {
     "name": "stdout",
     "output_type": "stream",
     "text": [
      "Enter a positive number: 12\n",
      "The sum of all even numbers till number 12: 30\n"
     ]
    }
   ],
   "source": [
    "n = int(input(\"Enter a positive number: \"))\n",
    "s=0\n",
    "for i in range(1,n):\n",
    "    if i%2==0:\n",
    "        s += i\n",
    "print(f\"The sum of all even numbers till number {n}:\",s)"
   ]
  },
  {
   "cell_type": "code",
   "execution_count": null,
   "id": "a7b22cb2",
   "metadata": {},
   "outputs": [],
   "source": []
  }
 ],
 "metadata": {
  "kernelspec": {
   "display_name": "Python 3 (ipykernel)",
   "language": "python",
   "name": "python3"
  },
  "language_info": {
   "codemirror_mode": {
    "name": "ipython",
    "version": 3
   },
   "file_extension": ".py",
   "mimetype": "text/x-python",
   "name": "python",
   "nbconvert_exporter": "python",
   "pygments_lexer": "ipython3",
   "version": "3.11.4"
  }
 },
 "nbformat": 4,
 "nbformat_minor": 5
}
