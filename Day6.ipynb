{
  "nbformat": 4,
  "nbformat_minor": 0,
  "metadata": {
    "colab": {
      "provenance": [],
      "authorship_tag": "ABX9TyMsGjWDzCWi1yNmYyEfEIeM",
      "include_colab_link": true
    },
    "kernelspec": {
      "name": "python3",
      "display_name": "Python 3"
    },
    "language_info": {
      "name": "python"
    }
  },
  "cells": [
    {
      "cell_type": "markdown",
      "metadata": {
        "id": "view-in-github",
        "colab_type": "text"
      },
      "source": [
        "<a href=\"https://colab.research.google.com/github/NagaramTarun/python/blob/main/Day6.ipynb\" target=\"_parent\"><img src=\"https://colab.research.google.com/assets/colab-badge.svg\" alt=\"Open In Colab\"/></a>"
      ]
    },
    {
      "cell_type": "markdown",
      "source": [
        "# **Dictionary**\n",
        "\n",
        "update\n",
        "\n",
        "get\n",
        "\n",
        "del\n",
        "\n",
        "values\n",
        "\n",
        "keys\n",
        "\n",
        "\n",
        "items"
      ],
      "metadata": {
        "id": "C57PfVKtVtyF"
      }
    },
    {
      "cell_type": "code",
      "execution_count": 1,
      "metadata": {
        "id": "qAA1z7LZU10t"
      },
      "outputs": [],
      "source": [
        "d = {101:4 ,102:7,\"B\":2}"
      ]
    },
    {
      "cell_type": "code",
      "source": [
        "d"
      ],
      "metadata": {
        "colab": {
          "base_uri": "https://localhost:8080/"
        },
        "id": "YkW79NiFYsL8",
        "outputId": "32f174ed-6550-4f81-8a52-ac8d264956d7"
      },
      "execution_count": 2,
      "outputs": [
        {
          "output_type": "execute_result",
          "data": {
            "text/plain": [
              "{101: 4, 102: 7, 'B': 2}"
            ]
          },
          "metadata": {},
          "execution_count": 2
        }
      ]
    },
    {
      "cell_type": "code",
      "source": [
        "d[102]"
      ],
      "metadata": {
        "colab": {
          "base_uri": "https://localhost:8080/"
        },
        "id": "W4KUlqwjYtNK",
        "outputId": "fc49c17c-0ae4-490b-c369-feb84e85fe1a"
      },
      "execution_count": 3,
      "outputs": [
        {
          "output_type": "execute_result",
          "data": {
            "text/plain": [
              "7"
            ]
          },
          "metadata": {},
          "execution_count": 3
        }
      ]
    },
    {
      "cell_type": "code",
      "source": [
        "d['B']"
      ],
      "metadata": {
        "colab": {
          "base_uri": "https://localhost:8080/"
        },
        "id": "xFKaAAXxYxNV",
        "outputId": "d737d278-5fb8-4440-c4ef-7695198116eb"
      },
      "execution_count": 4,
      "outputs": [
        {
          "output_type": "execute_result",
          "data": {
            "text/plain": [
              "2"
            ]
          },
          "metadata": {},
          "execution_count": 4
        }
      ]
    },
    {
      "cell_type": "code",
      "source": [
        "d.update({102:67})\n",
        "d"
      ],
      "metadata": {
        "colab": {
          "base_uri": "https://localhost:8080/"
        },
        "id": "FEdECyjQYzAP",
        "outputId": "79d71744-2e6e-4e84-9489-8f64f1fa801c"
      },
      "execution_count": 5,
      "outputs": [
        {
          "output_type": "execute_result",
          "data": {
            "text/plain": [
              "{101: 4, 102: 67, 'B': 2}"
            ]
          },
          "metadata": {},
          "execution_count": 5
        }
      ]
    },
    {
      "cell_type": "code",
      "source": [
        "d[\"B\"] = \"Tarun\" # dict does not allow duplicate keys"
      ],
      "metadata": {
        "id": "59klB5qEZC_E"
      },
      "execution_count": 13,
      "outputs": []
    },
    {
      "cell_type": "code",
      "source": [
        "d"
      ],
      "metadata": {
        "colab": {
          "base_uri": "https://localhost:8080/"
        },
        "id": "oeG416LUZKOW",
        "outputId": "ba6f7245-5690-4a3f-d788-4ba109101b31"
      },
      "execution_count": 14,
      "outputs": [
        {
          "output_type": "execute_result",
          "data": {
            "text/plain": [
              "{101: 4, 102: 67, 'B': 'Tarun', 103: 'Hyderabad', 109: 'Tarun'}"
            ]
          },
          "metadata": {},
          "execution_count": 14
        }
      ]
    },
    {
      "cell_type": "code",
      "source": [
        "d.update({103:\"Hyderabad\"})\n",
        "d"
      ],
      "metadata": {
        "colab": {
          "base_uri": "https://localhost:8080/"
        },
        "id": "CA270jf6ZK1W",
        "outputId": "f9666de4-0c41-4ce9-9c73-c92e41531a75"
      },
      "execution_count": 15,
      "outputs": [
        {
          "output_type": "execute_result",
          "data": {
            "text/plain": [
              "{101: 4, 102: 67, 'B': 'Tarun', 103: 'Hyderabad', 109: 'Tarun'}"
            ]
          },
          "metadata": {},
          "execution_count": 15
        }
      ]
    },
    {
      "cell_type": "code",
      "source": [
        "d.update({109:\"Tarun\"}) # dict allows duplicate values"
      ],
      "metadata": {
        "id": "vQXT2lgXZi0g"
      },
      "execution_count": 16,
      "outputs": []
    },
    {
      "cell_type": "code",
      "source": [
        "d"
      ],
      "metadata": {
        "colab": {
          "base_uri": "https://localhost:8080/"
        },
        "id": "a7oevJoGaFyW",
        "outputId": "db69cdc3-9374-44ff-b7ec-fcacf71bd8ab"
      },
      "execution_count": 17,
      "outputs": [
        {
          "output_type": "execute_result",
          "data": {
            "text/plain": [
              "{101: 4, 102: 67, 'B': 'Tarun', 103: 'Hyderabad', 109: 'Tarun'}"
            ]
          },
          "metadata": {},
          "execution_count": 17
        }
      ]
    },
    {
      "cell_type": "code",
      "source": [
        "d.get(109)"
      ],
      "metadata": {
        "colab": {
          "base_uri": "https://localhost:8080/",
          "height": 35
        },
        "id": "btOfM4d9aJA_",
        "outputId": "43e1b8fa-231e-499b-8871-16520a1a4997"
      },
      "execution_count": 19,
      "outputs": [
        {
          "output_type": "execute_result",
          "data": {
            "text/plain": [
              "'Tarun'"
            ],
            "application/vnd.google.colaboratory.intrinsic+json": {
              "type": "string"
            }
          },
          "metadata": {},
          "execution_count": 19
        }
      ]
    },
    {
      "cell_type": "code",
      "source": [
        "del d[101]"
      ],
      "metadata": {
        "id": "CIm8VIeDa6HI"
      },
      "execution_count": 20,
      "outputs": []
    },
    {
      "cell_type": "code",
      "source": [
        "d"
      ],
      "metadata": {
        "colab": {
          "base_uri": "https://localhost:8080/"
        },
        "id": "y2OtGzD_bhYB",
        "outputId": "ed4b839d-ff93-41ed-b63f-4360100dd436"
      },
      "execution_count": 21,
      "outputs": [
        {
          "output_type": "execute_result",
          "data": {
            "text/plain": [
              "{102: 67, 'B': 'Tarun', 103: 'Hyderabad', 109: 'Tarun'}"
            ]
          },
          "metadata": {},
          "execution_count": 21
        }
      ]
    },
    {
      "cell_type": "code",
      "source": [
        "d.values()"
      ],
      "metadata": {
        "colab": {
          "base_uri": "https://localhost:8080/"
        },
        "id": "X2NVIGvtbiNg",
        "outputId": "da24bdb3-c3c6-430f-9632-48de967ad7d1"
      },
      "execution_count": 23,
      "outputs": [
        {
          "output_type": "execute_result",
          "data": {
            "text/plain": [
              "dict_values([67, 'Tarun', 'Hyderabad', 'Tarun'])"
            ]
          },
          "metadata": {},
          "execution_count": 23
        }
      ]
    },
    {
      "cell_type": "code",
      "source": [
        "d.keys()"
      ],
      "metadata": {
        "colab": {
          "base_uri": "https://localhost:8080/"
        },
        "id": "zvd1vt-pcCfn",
        "outputId": "dc57d9fa-3316-483c-c762-d705e534027f"
      },
      "execution_count": 24,
      "outputs": [
        {
          "output_type": "execute_result",
          "data": {
            "text/plain": [
              "dict_keys([102, 'B', 103, 109])"
            ]
          },
          "metadata": {},
          "execution_count": 24
        }
      ]
    },
    {
      "cell_type": "code",
      "source": [
        "d.items()"
      ],
      "metadata": {
        "colab": {
          "base_uri": "https://localhost:8080/"
        },
        "id": "BdWuydiocMeD",
        "outputId": "d0de3d62-899b-421a-9ecd-0b933ef5a198"
      },
      "execution_count": 25,
      "outputs": [
        {
          "output_type": "execute_result",
          "data": {
            "text/plain": [
              "dict_items([(102, 67), ('B', 'Tarun'), (103, 'Hyderabad'), (109, 'Tarun')])"
            ]
          },
          "metadata": {},
          "execution_count": 25
        }
      ]
    },
    {
      "cell_type": "code",
      "source": [
        "d[105] = [1000,2000,3000,4000,5000] # or d.update({105 : [1000,2000,3000,4000,5000]})"
      ],
      "metadata": {
        "id": "ywZ9f_5CcXa2"
      },
      "execution_count": 26,
      "outputs": []
    },
    {
      "cell_type": "code",
      "source": [
        "d"
      ],
      "metadata": {
        "colab": {
          "base_uri": "https://localhost:8080/"
        },
        "id": "1GQINItHcs8P",
        "outputId": "81580a5f-1dd5-4dae-bbff-3075f972116f"
      },
      "execution_count": 27,
      "outputs": [
        {
          "output_type": "execute_result",
          "data": {
            "text/plain": [
              "{102: 67,\n",
              " 'B': 'Tarun',\n",
              " 103: 'Hyderabad',\n",
              " 109: 'Tarun',\n",
              " 105: [1000, 2000, 3000, 4000, 5000]}"
            ]
          },
          "metadata": {},
          "execution_count": 27
        }
      ]
    },
    {
      "cell_type": "code",
      "source": [
        "d[105]"
      ],
      "metadata": {
        "colab": {
          "base_uri": "https://localhost:8080/"
        },
        "id": "P6-TA9BwctyN",
        "outputId": "b3cf0898-d318-4dd0-8c5f-9741f4b740b7"
      },
      "execution_count": 28,
      "outputs": [
        {
          "output_type": "execute_result",
          "data": {
            "text/plain": [
              "[1000, 2000, 3000, 4000, 5000]"
            ]
          },
          "metadata": {},
          "execution_count": 28
        }
      ]
    },
    {
      "cell_type": "code",
      "source": [
        "type(d)"
      ],
      "metadata": {
        "colab": {
          "base_uri": "https://localhost:8080/"
        },
        "id": "qE18CCJwc39j",
        "outputId": "d84fff54-14f4-4535-9313-d5cd2bad4dee"
      },
      "execution_count": 29,
      "outputs": [
        {
          "output_type": "execute_result",
          "data": {
            "text/plain": [
              "dict"
            ]
          },
          "metadata": {},
          "execution_count": 29
        }
      ]
    },
    {
      "cell_type": "code",
      "source": [
        "type(d[102])"
      ],
      "metadata": {
        "colab": {
          "base_uri": "https://localhost:8080/"
        },
        "id": "gU_cr-oudQw9",
        "outputId": "b8e8da09-93bb-42e1-8025-20c5361312ef"
      },
      "execution_count": 30,
      "outputs": [
        {
          "output_type": "execute_result",
          "data": {
            "text/plain": [
              "int"
            ]
          },
          "metadata": {},
          "execution_count": 30
        }
      ]
    },
    {
      "cell_type": "code",
      "source": [
        "type(d[105])"
      ],
      "metadata": {
        "colab": {
          "base_uri": "https://localhost:8080/"
        },
        "id": "RzwE346ndTjj",
        "outputId": "50a56bb5-a8ee-4b12-ace0-55724ca23389"
      },
      "execution_count": 31,
      "outputs": [
        {
          "output_type": "execute_result",
          "data": {
            "text/plain": [
              "list"
            ]
          },
          "metadata": {},
          "execution_count": 31
        }
      ]
    },
    {
      "cell_type": "code",
      "source": [
        "type(d[\"B\"])"
      ],
      "metadata": {
        "colab": {
          "base_uri": "https://localhost:8080/"
        },
        "id": "zIT_2oJtdVV1",
        "outputId": "e84c0ecd-60a5-4f23-d418-f0b4d06b3b86"
      },
      "execution_count": 32,
      "outputs": [
        {
          "output_type": "execute_result",
          "data": {
            "text/plain": [
              "str"
            ]
          },
          "metadata": {},
          "execution_count": 32
        }
      ]
    },
    {
      "cell_type": "code",
      "source": [
        "d.update({103:(28,45,20,67,35)})\n",
        "d"
      ],
      "metadata": {
        "colab": {
          "base_uri": "https://localhost:8080/"
        },
        "id": "5cL_v3vcdcZo",
        "outputId": "5521e46d-d4e7-499e-df19-51e11b3d1aea"
      },
      "execution_count": 34,
      "outputs": [
        {
          "output_type": "execute_result",
          "data": {
            "text/plain": [
              "{102: 67,\n",
              " 'B': 'Tarun',\n",
              " 103: (28, 45, 20, 67, 35),\n",
              " 109: 'Tarun',\n",
              " 105: [1000, 2000, 3000, 4000, 5000]}"
            ]
          },
          "metadata": {},
          "execution_count": 34
        }
      ]
    },
    {
      "cell_type": "code",
      "source": [
        "d[105].append(3444)"
      ],
      "metadata": {
        "id": "ZGkny0WPd2lw"
      },
      "execution_count": 35,
      "outputs": []
    },
    {
      "cell_type": "code",
      "source": [
        "d"
      ],
      "metadata": {
        "colab": {
          "base_uri": "https://localhost:8080/"
        },
        "id": "E6lkQbk6emCZ",
        "outputId": "0fd22ce2-2acd-46e3-8cae-38f9b526e9dc"
      },
      "execution_count": 36,
      "outputs": [
        {
          "output_type": "execute_result",
          "data": {
            "text/plain": [
              "{102: 67,\n",
              " 'B': 'Tarun',\n",
              " 103: (28, 45, 20, 67, 35),\n",
              " 109: 'Tarun',\n",
              " 105: [1000, 2000, 3000, 4000, 5000, 3444]}"
            ]
          },
          "metadata": {},
          "execution_count": 36
        }
      ]
    },
    {
      "cell_type": "code",
      "source": [
        "d[103].append(100)"
      ],
      "metadata": {
        "colab": {
          "base_uri": "https://localhost:8080/",
          "height": 141
        },
        "id": "rKeLuj0VemmN",
        "outputId": "03a89d50-5020-44dd-ad84-8b7592833585"
      },
      "execution_count": 37,
      "outputs": [
        {
          "output_type": "error",
          "ename": "AttributeError",
          "evalue": "'tuple' object has no attribute 'append'",
          "traceback": [
            "\u001b[0;31m---------------------------------------------------------------------------\u001b[0m",
            "\u001b[0;31mAttributeError\u001b[0m                            Traceback (most recent call last)",
            "\u001b[0;32m<ipython-input-37-3795fbd09062>\u001b[0m in \u001b[0;36m<cell line: 1>\u001b[0;34m()\u001b[0m\n\u001b[0;32m----> 1\u001b[0;31m \u001b[0md\u001b[0m\u001b[0;34m[\u001b[0m\u001b[0;36m103\u001b[0m\u001b[0;34m]\u001b[0m\u001b[0;34m.\u001b[0m\u001b[0mappend\u001b[0m\u001b[0;34m(\u001b[0m\u001b[0;36m100\u001b[0m\u001b[0;34m)\u001b[0m\u001b[0;34m\u001b[0m\u001b[0;34m\u001b[0m\u001b[0m\n\u001b[0m",
            "\u001b[0;31mAttributeError\u001b[0m: 'tuple' object has no attribute 'append'"
          ]
        }
      ]
    },
    {
      "cell_type": "code",
      "source": [
        "d[101]= {50:[7,8,9,10],'apple':(20,10,70,[90,180,270])}"
      ],
      "metadata": {
        "id": "KJKkbDfjfJlC"
      },
      "execution_count": 38,
      "outputs": []
    },
    {
      "cell_type": "code",
      "source": [
        "d"
      ],
      "metadata": {
        "colab": {
          "base_uri": "https://localhost:8080/"
        },
        "id": "B8N7XhgCfqR1",
        "outputId": "1f1dec86-8835-4ad2-8916-7cdeeab96157"
      },
      "execution_count": 39,
      "outputs": [
        {
          "output_type": "execute_result",
          "data": {
            "text/plain": [
              "{102: 67,\n",
              " 'B': 'Tarun',\n",
              " 103: (28, 45, 20, 67, 35),\n",
              " 109: 'Tarun',\n",
              " 105: [1000, 2000, 3000, 4000, 5000, 3444],\n",
              " 101: {50: [7, 8, 9, 10], 'apple': (20, 10, 70, [90, 180, 270])}}"
            ]
          },
          "metadata": {},
          "execution_count": 39
        }
      ]
    },
    {
      "cell_type": "code",
      "source": [
        "d[105]={'a':{30,50,70},'b':(1000,5000,7000,9000),'c':['K',{'L':[11,12],'M':(77,88)},'N']}"
      ],
      "metadata": {
        "id": "TTrv1vMHfqv6"
      },
      "execution_count": 40,
      "outputs": []
    },
    {
      "cell_type": "code",
      "source": [
        "d"
      ],
      "metadata": {
        "colab": {
          "base_uri": "https://localhost:8080/"
        },
        "id": "8N0ychNUgd1s",
        "outputId": "0449ccca-c4ef-470d-b001-f9fffa5f0450"
      },
      "execution_count": 41,
      "outputs": [
        {
          "output_type": "execute_result",
          "data": {
            "text/plain": [
              "{102: 67,\n",
              " 'B': 'Tarun',\n",
              " 103: (28, 45, 20, 67, 35),\n",
              " 109: 'Tarun',\n",
              " 105: {'a': {30, 50, 70},\n",
              "  'b': (1000, 5000, 7000, 9000),\n",
              "  'c': ['K', {'L': [11, 12], 'M': (77, 88)}, 'N']},\n",
              " 101: {50: [7, 8, 9, 10], 'apple': (20, 10, 70, [90, 180, 270])}}"
            ]
          },
          "metadata": {},
          "execution_count": 41
        }
      ]
    },
    {
      "cell_type": "code",
      "source": [
        "d[101]['apple'][3][1]"
      ],
      "metadata": {
        "colab": {
          "base_uri": "https://localhost:8080/"
        },
        "id": "-dMwSZ88geSW",
        "outputId": "33598638-f571-428c-feba-3319d7057455"
      },
      "execution_count": 42,
      "outputs": [
        {
          "output_type": "execute_result",
          "data": {
            "text/plain": [
              "180"
            ]
          },
          "metadata": {},
          "execution_count": 42
        }
      ]
    },
    {
      "cell_type": "code",
      "source": [
        "d[105]['c'][1]['M'][1]"
      ],
      "metadata": {
        "colab": {
          "base_uri": "https://localhost:8080/"
        },
        "id": "cvOvphqMg50R",
        "outputId": "58e6c383-9222-4d8e-e4a1-a1a516279739"
      },
      "execution_count": 49,
      "outputs": [
        {
          "output_type": "execute_result",
          "data": {
            "text/plain": [
              "88"
            ]
          },
          "metadata": {},
          "execution_count": 49
        }
      ]
    },
    {
      "cell_type": "code",
      "source": [],
      "metadata": {
        "id": "gv9ma57HjjJR"
      },
      "execution_count": null,
      "outputs": []
    }
  ]
}