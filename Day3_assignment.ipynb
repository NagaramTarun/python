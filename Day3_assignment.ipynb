{
 "cells": [
  {
   "cell_type": "code",
   "execution_count": null,
   "id": "07c34b68",
   "metadata": {},
   "outputs": [],
   "source": []
  },
  {
   "cell_type": "code",
   "execution_count": 3,
   "id": "e7ca3f7e",
   "metadata": {},
   "outputs": [
    {
     "name": "stdout",
     "output_type": "stream",
     "text": [
      "Enter Subject 1 marks: 45\n",
      "Enter Subject 2 marks: 23\n",
      "Enter Subject 3 marks: 34\n",
      "Grade: Fail\n"
     ]
    }
   ],
   "source": [
    "def grade(a):\n",
    "    if a>=90:\n",
    "        return \"A\"\n",
    "    elif a>=80 and a<=89:\n",
    "        return \"B\"\n",
    "    elif a>=70 and a<=79:\n",
    "        return \"C\"\n",
    "    else:\n",
    "        return \"Fail\"\n",
    "for i in range(3):\n",
    "    marks = int(input(f\"Enter Subject {i+1} marks: \"))\n",
    "    s += marks\n",
    "avg = s/3\n",
    "g = grade(avg)\n",
    "print(f\"Grade: {g}\")"
   ]
  },
  {
   "cell_type": "code",
   "execution_count": null,
   "id": "350ce65f",
   "metadata": {},
   "outputs": [],
   "source": []
  }
 ],
 "metadata": {
  "kernelspec": {
   "display_name": "Python 3 (ipykernel)",
   "language": "python",
   "name": "python3"
  },
  "language_info": {
   "codemirror_mode": {
    "name": "ipython",
    "version": 3
   },
   "file_extension": ".py",
   "mimetype": "text/x-python",
   "name": "python",
   "nbconvert_exporter": "python",
   "pygments_lexer": "ipython3",
   "version": "3.11.4"
  }
 },
 "nbformat": 4,
 "nbformat_minor": 5
}
